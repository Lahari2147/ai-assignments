{
 "cells": [
  {
   "cell_type": "markdown",
   "metadata": {
    "id": "FDhUIg0MFffT"
   },
   "source": [
    "***generate a python code to login system ***\n"
   ]
  },
  {
   "cell_type": "code",
   "execution_count": null,
   "metadata": {
    "colab": {
     "base_uri": "https://localhost:8080/"
    },
    "executionInfo": {
     "elapsed": 12055,
     "status": "ok",
     "timestamp": 1755667355854,
     "user": {
      "displayName": "LAMBUINDRA VENKATA SURYA TEJA",
      "userId": "00269674416648182063"
     },
     "user_tz": -330
    },
    "id": "591b852f",
    "outputId": "4e399b98-a6d3-4658-b97c-cad549622b22"
   },
   "outputs": [
    {
     "name": "stdout",
     "output_type": "stream",
     "text": [
      "enter your name:indra\n",
      "enter your passsword:1234\n",
      "Enter your username: indra\n",
      "Enter your password: 1234\n",
      "Login successful!\n"
     ]
    }
   ],
   "source": [
    "def simple_login():\n",
    "    \"\"\"A simple login system that takes username and password as input.\"\"\"\n",
    "    correct_username = input(\"enter your name:\")  # Replace with your desired username\n",
    "    correct_password = input(\"enter your passsword:\")  # Replace with your desired password\n",
    "\n",
    "    entered_username = input(\"Enter your username: \")\n",
    "    entered_password = input(\"Enter your password: \")\n",
    "\n",
    "    if entered_username == correct_username and entered_password == correct_password:\n",
    "        print(\"Login successful!\")\n",
    "    else:\n",
    "        print(\"Invalid username or password.\")\n",
    "\n",
    "# Run the login system\n",
    "simple_login()"
   ]
  },
  {
   "cell_type": "markdown",
   "metadata": {
    "id": "qvGxhp0XGEnD"
   },
   "source": [
    "**generate a python code of loan APPROVAL SYSTEM**"
   ]
  },
  {
   "cell_type": "code",
   "execution_count": null,
   "metadata": {
    "colab": {
     "base_uri": "https://localhost:8080/"
    },
    "executionInfo": {
     "elapsed": 7,
     "status": "ok",
     "timestamp": 1755770575865,
     "user": {
      "displayName": "LAMBUINDRA VENKATA SURYA TEJA",
      "userId": "00269674416648182063"
     },
     "user_tz": -330
    },
    "id": "120340a2",
    "outputId": "f1432b4b-ef84-4dae-f9ef-9e5dae069a95"
   },
   "outputs": [
    {
     "name": "stdout",
     "output_type": "stream",
     "text": [
      "Hello, Alice! Nice to meet you.\n"
     ]
    }
   ],
   "source": [
    "def greet(name):\n",
    "  \"\"\"Generates a personalized greeting.\"\"\"\n",
    "  print(f\"Hello, {name}! Nice to meet you.\")\n",
    "\n",
    "# Example usage\n",
    "greet(\"Alice\")"
   ]
  },
  {
   "cell_type": "markdown",
   "metadata": {
    "id": "aeroel6wGbhq"
   },
   "source": [
    "**GENERATE A PYTHON TO PRINT FIBANNOCI SERIES USING RECURSIONS**"
   ]
  },
  {
   "cell_type": "code",
   "execution_count": null,
   "metadata": {
    "colab": {
     "base_uri": "https://localhost:8080/"
    },
    "executionInfo": {
     "elapsed": 8,
     "status": "ok",
     "timestamp": 1755770631236,
     "user": {
      "displayName": "LAMBUINDRA VENKATA SURYA TEJA",
      "userId": "00269674416648182063"
     },
     "user_tz": -330
    },
    "id": "1a696dcd",
    "outputId": "5d961d75-d945-45ad-d5b3-f165b0d63f88"
   },
   "outputs": [
    {
     "name": "stdout",
     "output_type": "stream",
     "text": [
      "The 7th Fibonacci number is: 13\n"
     ]
    }
   ],
   "source": [
    "def fibonacci_recursive(n):\n",
    "  \"\"\"\n",
    "  Calculates the nth Fibonacci number using recursion.\n",
    "\n",
    "  Args:\n",
    "    n: The position in the Fibonacci sequence (non-negative integer).\n",
    "\n",
    "  Returns:\n",
    "    The nth Fibonacci number.\n",
    "  \"\"\"\n",
    "  # Base case 1: The first Fibonacci number is 0.\n",
    "  if n == 0:\n",
    "    return 0\n",
    "  # Base case 2: The second Fibonacci number is 1.\n",
    "  elif n == 1:\n",
    "    return 1\n",
    "  # Recursive step: The nth Fibonacci number is the sum of the (n-1)th and (n-2)th Fibonacci numbers.\n",
    "  else:\n",
    "    return fibonacci_recursive(n - 1) + fibonacci_recursive(n - 2)\n",
    "\n",
    "# Example usage: Calculate the 7th Fibonacci number\n",
    "n = 7\n",
    "result = fibonacci_recursive(n)\n",
    "print(f\"The {n}th Fibonacci number is: {result}\")"
   ]
  },
  {
   "cell_type": "markdown",
   "metadata": {
    "id": "dvHdDZ4UGmwT"
   },
   "source": [
    "**Generate a Python function that scores job applicants based on weighted features like education, experience, skills, certifications, and interview performance, with comments explaining the logic.**"
   ]
  },
  {
   "cell_type": "code",
   "execution_count": null,
   "metadata": {
    "id": "jIVkr15yG4Fz"
   },
   "outputs": [],
   "source": []
  },
  {
   "cell_type": "code",
   "execution_count": null,
   "metadata": {
    "colab": {
     "base_uri": "https://localhost:8080/"
    },
    "executionInfo": {
     "elapsed": 12,
     "status": "ok",
     "timestamp": 1755771035663,
     "user": {
      "displayName": "LAMBUINDRA VENKATA SURYA TEJA",
      "userId": "00269674416648182063"
     },
     "user_tz": -330
    },
    "id": "5bbebcbf",
    "outputId": "4027caed-f54c-470e-e9fb-f7a4046b7d9d"
   },
   "outputs": [
    {
     "name": "stdout",
     "output_type": "stream",
     "text": [
      "The applicant's score is: 18.4\n"
     ]
    }
   ],
   "source": [
    "def score_applicant(education, experience, skills, certifications, interview_score, weights):\n",
    "  \"\"\"\n",
    "  Calculates a weighted score for a job applicant.\n",
    "\n",
    "  Args:\n",
    "    education (float): Score for education (e.g., on a scale of 0 to 10).\n",
    "    experience (float): Score for experience (e.g., in years or on a scale).\n",
    "    skills (float): Score for skills (e.g., based on assessment or self-rating).\n",
    "    certifications (float): Score for certifications (e.g., number of relevant certifications).\n",
    "    interview_score (float): Score from the interview performance (e.g., on a scale of 0 to 100).\n",
    "    weights (dict): A dictionary containing weights for each feature (education, experience, skills, certifications, interview_score).\n",
    "\n",
    "  Returns:\n",
    "    float: The calculated weighted score for the applicant.\n",
    "  \"\"\"\n",
    "  # Calculate the weighted score for each feature\n",
    "  weighted_education = education * weights.get('education', 0)\n",
    "  weighted_experience = experience * weights.get('experience', 0)\n",
    "  weighted_skills = skills * weights.get('skills', 0)\n",
    "  weighted_certifications = certifications * weights.get('certifications', 0)\n",
    "  weighted_interview_score = interview_score * weights.get('interview_score', 0)\n",
    "\n",
    "  # Sum the weighted scores to get the total applicant score\n",
    "  total_score = weighted_education + weighted_experience + weighted_skills + weighted_certifications + weighted_interview_score\n",
    "\n",
    "  return total_score\n",
    "\n",
    "# Example Usage:\n",
    "# Define the weights for each feature\n",
    "feature_weights = {\n",
    "    'education': 0.2,\n",
    "    'experience': 0.3,\n",
    "    'skills': 0.25,\n",
    "    'certifications': 0.1,\n",
    "    'interview_score': 0.15\n",
    "}\n",
    "\n",
    "# Define applicant data (example scores)\n",
    "applicant_data = {\n",
    "    'education': 8,\n",
    "    'experience': 5,\n",
    "    'skills': 9,\n",
    "    'certifications': 3,\n",
    "    'interview_score': 85\n",
    "}\n",
    "\n",
    "# Calculate the applicant's score\n",
    "applicant_score = score_applicant(\n",
    "    applicant_data['education'],\n",
    "    applicant_data['experience'],\n",
    "    applicant_data['skills'],\n",
    "    applicant_data['certifications'],\n",
    "    applicant_data['interview_score'],\n",
    "    feature_weights\n",
    ")\n",
    "\n",
    "print(f\"The applicant's score is: {applicant_score}\")"
   ]
  },
  {
   "cell_type": "markdown",
   "metadata": {
    "id": "AOX9LGQmG_wz"
   },
   "source": [
    "**Write a Python function that takes name and gender, returns a greeting with \"Mr.\" if male and \"Mrs.\" otherwise, including comments.**"
   ]
  },
  {
   "cell_type": "code",
   "execution_count": null,
   "metadata": {
    "id": "nBrTwZUhHeED"
   },
   "outputs": [],
   "source": []
  },
  {
   "cell_type": "code",
   "execution_count": null,
   "metadata": {
    "colab": {
     "base_uri": "https://localhost:8080/"
    },
    "executionInfo": {
     "elapsed": 5,
     "status": "ok",
     "timestamp": 1755771178726,
     "user": {
      "displayName": "LAMBUINDRA VENKATA SURYA TEJA",
      "userId": "00269674416648182063"
     },
     "user_tz": -330
    },
    "id": "3215145c",
    "outputId": "eda4af3a-2ea1-4ea3-a7ff-85148b4a2c38"
   },
   "outputs": [
    {
     "name": "stdout",
     "output_type": "stream",
     "text": [
      "Hello Mr. John Doe\n",
      "Hello Mrs. Jane Doe\n",
      "Hello Mrs. Alice\n"
     ]
    }
   ],
   "source": [
    "def formal_greeting(name, gender):\n",
    "  \"\"\"\n",
    "  Generates a formal greeting based on name and gender.\n",
    "\n",
    "  Args:\n",
    "    name (str): The name of the person.\n",
    "    gender (str): The gender of the person ('male' or 'female').\n",
    "\n",
    "  Returns:\n",
    "    str: A formal greeting with Mr. or Mrs.\n",
    "  \"\"\"\n",
    "  # Convert gender input to lowercase for case-insensitive comparison\n",
    "  gender_lower = gender.lower()\n",
    "\n",
    "  # Check if the gender is male\n",
    "  if gender_lower == 'male':\n",
    "    # Return greeting with \"Mr.\"\n",
    "    return f\"Hello Mr. {name}\"\n",
    "  # Otherwise, assume female and use \"Mrs.\"\n",
    "  else:\n",
    "    # Return greeting with \"Mrs.\"\n",
    "    return f\"Hello Mrs. {name}\"\n",
    "\n",
    "# Example usage:\n",
    "print(formal_greeting(\"John Doe\", \"male\"))\n",
    "print(formal_greeting(\"Jane Doe\", \"female\"))\n",
    "print(formal_greeting(\"Alice\", \"Female\")) # Case-insensitive example"
   ]
  }
 ],
 "metadata": {
  "colab": {
   "authorship_tag": "ABX9TyOFEf9x6WiHYAVseWncP6tT",
   "provenance": []
  },
  "kernelspec": {
   "display_name": "Python 3",
   "name": "python3"
  },
  "language_info": {
   "name": "python"
  }
 },
 "nbformat": 4,
 "nbformat_minor": 0
}
