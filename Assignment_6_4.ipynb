{
  "nbformat": 4,
  "nbformat_minor": 0,
  "metadata": {
    "colab": {
      "provenance": [],
      "authorship_tag": "ABX9TyMeCV1AHVQL60slJWlDrDJI",
      "include_colab_link": true
    },
    "kernelspec": {
      "name": "python3",
      "display_name": "Python 3"
    },
    "language_info": {
      "name": "python"
    }
  },
  "cells": [
    {
      "cell_type": "markdown",
      "metadata": {
        "id": "view-in-github",
        "colab_type": "text"
      },
      "source": [
        "<a href=\"https://colab.research.google.com/github/Indra1206/AI-ASSIGNMENTS/blob/main/Assignment_6_4.ipynb\" target=\"_parent\"><img src=\"https://colab.research.google.com/assets/colab-badge.svg\" alt=\"Open In Colab\"/></a>"
      ]
    },
    {
      "cell_type": "markdown",
      "source": [
        "**generate a pyhton code to “Complete methods to display student details and check if marks are above a given average.”**\n",
        "\n",
        "\n"
      ],
      "metadata": {
        "id": "5sXJpi0mLyks"
      }
    },
    {
      "cell_type": "code",
      "metadata": {
        "colab": {
          "base_uri": "https://localhost:8080/"
        },
        "id": "c9b7b379",
        "outputId": "9131211b-1983-48e7-eac2-a9f9d031e7f7"
      },
      "source": [
        "class Student:\n",
        "    def __init__(self, name, marks):\n",
        "        self.name = name\n",
        "        self.marks = marks\n",
        "\n",
        "    def display_details(self):\n",
        "        print(f\"Student Name: {self.name}, Marks: {self.marks}\")\n",
        "        if self.is_passed(50): # Assuming a passing mark of 50\n",
        "            print(\"Status: Passed\")\n",
        "        else:\n",
        "            print(\"Status: Failed\")\n",
        "\n",
        "\n",
        "    def is_above_average(self, average):\n",
        "        return self.marks > average\n",
        "\n",
        "    def is_passed(self, passing_mark):\n",
        "        if self.marks >= passing_mark:\n",
        "            return True\n",
        "        else:\n",
        "            return False\n",
        "\n",
        "# Example usage:\n",
        "student1 = Student(\"Alice\", 75)\n",
        "student1.display_details()\n",
        "\n",
        "student2 = Student(\"Bob\", 45)\n",
        "student2.display_details()"
      ],
      "execution_count": null,
      "outputs": [
        {
          "output_type": "stream",
          "name": "stdout",
          "text": [
            "Student Name: Alice, Marks: 75\n",
            "Status: Passed\n",
            "Student Name: Bob, Marks: 45\n",
            "Status: Failed\n"
          ]
        }
      ]
    },
    {
      "cell_type": "markdown",
      "source": [
        "**generate a python code of the first two numbers of a for loop to iterate through a list of a numbers and clculate and print the square of even numbers only**"
      ],
      "metadata": {
        "id": "6fa9oIWETSkd"
      }
    },
    {
      "cell_type": "code",
      "metadata": {
        "colab": {
          "base_uri": "https://localhost:8080/"
        },
        "id": "833fb2de",
        "outputId": "a33ec4fa-1aa0-444b-868a-2ce77466b45b"
      },
      "source": [
        "numbers = [1, 2, 3, 4, 5, 6, 7, 8, 9, 10]\n",
        "\n",
        "# Iterate through the first two numbers in the list that are even\n",
        "even_numbers_processed = 0\n",
        "for number in numbers:\n",
        "  if number % 2 == 0:\n",
        "    square = number ** 2\n",
        "    print(f\"The square of {number} is {square}\")\n",
        "    even_numbers_processed += 1\n",
        "    if even_numbers_processed == 2:\n",
        "        break # Stop after processing the first two even numbers"
      ],
      "execution_count": null,
      "outputs": [
        {
          "output_type": "stream",
          "name": "stdout",
          "text": [
            "The square of 2 is 4\n",
            "The square of 4 is 16\n"
          ]
        }
      ]
    },
    {
      "cell_type": "markdown",
      "source": [
        "****"
      ],
      "metadata": {
        "id": "cjanDZnNPgkZ"
      }
    },
    {
      "cell_type": "markdown",
      "source": [
        "**Create a Python class BankAccount with attributes account_holder and balance, and methods deposit(), withdraw(), check_balance(), and is_insufficient_balance() to manage transactions and validate funds.**"
      ],
      "metadata": {
        "id": "x5p-TGhd2lX6"
      }
    },
    {
      "cell_type": "code",
      "metadata": {
        "colab": {
          "base_uri": "https://localhost:8080/"
        },
        "id": "e9bfe237",
        "outputId": "ccdafbec-8328-4b47-f463-daec561ad03f"
      },
      "source": [
        "class BankAccount:\n",
        "    def __init__(self, account_holder, balance=0):\n",
        "        self.account_holder = account_holder\n",
        "        self.balance = balance\n",
        "\n",
        "    def deposit(self, amount):\n",
        "        if amount > 0:\n",
        "            self.balance += amount\n",
        "            print(f\"Deposited {amount}. New balance: {self.balance}\")\n",
        "        else:\n",
        "            print(\"Deposit amount must be positive.\")\n",
        "\n",
        "    def withdraw(self, amount):\n",
        "        if amount > 0:\n",
        "            if self.is_insufficient_balance(amount):\n",
        "                print(\"Insufficient funds.\")\n",
        "            else:\n",
        "                self.balance -= amount\n",
        "                print(f\"Withdrew {amount}. New balance: {self.balance}\")\n",
        "        else:\n",
        "            print(\"Withdrawal amount must be positive.\")\n",
        "\n",
        "    def check_balance(self):\n",
        "        print(f\"Account holder: {self.account_holder}, Current balance: {self.balance}\")\n",
        "\n",
        "    def is_insufficient_balance(self, amount):\n",
        "        return self.balance < amount\n",
        "\n",
        "# Example usage:\n",
        "account1 = BankAccount(\"Alice\", 1000)\n",
        "account1.check_balance()\n",
        "account1.deposit(500)\n",
        "account1.withdraw(200)\n",
        "account1.withdraw(1500) # Test insufficient funds\n",
        "\n",
        "account2 = BankAccount(\"Bob\") # Account with default balance of 0\n",
        "account2.check_balance()\n",
        "account2.deposit(100)\n",
        "account2.withdraw(50)"
      ],
      "execution_count": 1,
      "outputs": [
        {
          "output_type": "stream",
          "name": "stdout",
          "text": [
            "Account holder: Alice, Current balance: 1000\n",
            "Deposited 500. New balance: 1500\n",
            "Withdrew 200. New balance: 1300\n",
            "Insufficient funds.\n",
            "Account holder: Bob, Current balance: 0\n",
            "Deposited 100. New balance: 100\n",
            "Withdrew 50. New balance: 50\n"
          ]
        }
      ]
    },
    {
      "cell_type": "markdown",
      "source": [
        "**Define a list of student dictionaries with 'name' and 'score', then use a while loop to print names of students scoring above 75.**\n"
      ],
      "metadata": {
        "id": "EkT6sRvF3pCz"
      }
    },
    {
      "cell_type": "code",
      "source": [],
      "metadata": {
        "id": "XxwfzEvP33Yh"
      },
      "execution_count": null,
      "outputs": []
    },
    {
      "cell_type": "code",
      "metadata": {
        "colab": {
          "base_uri": "https://localhost:8080/"
        },
        "id": "6274ebd8",
        "outputId": "3044ad0e-e926-4b62-cf97-680d0ecfbf78"
      },
      "source": [
        "students = [\n",
        "    {'name': 'Alice', 'score': 85},\n",
        "    {'name': 'Bob', 'score': 70},\n",
        "    {'name': 'Charlie', 'score': 92},\n",
        "    {'name': 'David', 'score': 78},\n",
        "    {'name': 'Eve', 'score': 65},\n",
        "    {'name': 'Frank', 'score': 88}\n",
        "]\n",
        "\n",
        "i = 0\n",
        "print(\"Students scoring above 75:\")\n",
        "while i < len(students):\n",
        "    if students[i]['score'] > 75:\n",
        "        print(students[i]['name'])\n",
        "    i += 1"
      ],
      "execution_count": 2,
      "outputs": [
        {
          "output_type": "stream",
          "name": "stdout",
          "text": [
            "Students scoring above 75:\n",
            "Alice\n",
            "Charlie\n",
            "David\n",
            "Frank\n"
          ]
        }
      ]
    },
    {
      "cell_type": "markdown",
      "source": [
        "**generate a python code to Create a ShoppingCart class with an empty items list and methods to add_item, remove_item, and calculate the total bill using a loop with conditional discounts.**"
      ],
      "metadata": {
        "id": "QJ3blsE-38sQ"
      }
    },
    {
      "cell_type": "code",
      "source": [],
      "metadata": {
        "id": "ftTJ6YEh4XGr"
      },
      "execution_count": null,
      "outputs": []
    },
    {
      "cell_type": "code",
      "metadata": {
        "colab": {
          "base_uri": "https://localhost:8080/"
        },
        "id": "19724e4a",
        "outputId": "9f27b17c-6fc7-4f00-842e-90e5a6ce19d7"
      },
      "source": [
        "class ShoppingCart:\n",
        "    def __init__(self):\n",
        "        self.items = []\n",
        "\n",
        "    def add_item(self, item_name, price, quantity=1):\n",
        "        self.items.append({'name': item_name, 'price': price, 'quantity': quantity})\n",
        "        print(f\"Added {quantity} x {item_name} to the cart.\")\n",
        "\n",
        "    def remove_item(self, item_name):\n",
        "        initial_item_count = len(self.items)\n",
        "        self.items = [item for item in self.items if item['name'] != item_name]\n",
        "        if len(self.items) < initial_item_count:\n",
        "            print(f\"Removed {item_name} from the cart.\")\n",
        "        else:\n",
        "            print(f\"{item_name} not found in the cart.\")\n",
        "\n",
        "    def calculate_total(self):\n",
        "        total_bill = 0\n",
        "        print(\"\\n--- Calculating Total Bill ---\")\n",
        "        for item in self.items:\n",
        "            item_total = item['price'] * item['quantity']\n",
        "            # Apply a conditional discount (example: 10% off if item price is over 50)\n",
        "            if item['price'] > 50:\n",
        "                discount = item_total * 0.10\n",
        "                item_total -= discount\n",
        "                print(f\"{item['name']}: ${item['price']} x {item['quantity']} - ${discount:.2f} discount = ${item_total:.2f}\")\n",
        "            else:\n",
        "                print(f\"{item['name']}: ${item['price']} x {item['quantity']} = ${item_total:.2f}\")\n",
        "            total_bill += item_total\n",
        "        print(\"----------------------------\")\n",
        "        print(f\"Total Bill: ${total_bill:.2f}\")\n",
        "        return total_bill\n",
        "\n",
        "# Example Usage:\n",
        "cart = ShoppingCart()\n",
        "cart.add_item(\"Laptop\", 1000, 1)\n",
        "cart.add_item(\"Mouse\", 25, 2)\n",
        "cart.add_item(\"Keyboard\", 75, 1)\n",
        "cart.calculate_total()\n",
        "cart.remove_item(\"Mouse\")\n",
        "cart.calculate_total()\n",
        "cart.remove_item(\"Monitor\") # Item not in cart"
      ],
      "execution_count": 3,
      "outputs": [
        {
          "output_type": "stream",
          "name": "stdout",
          "text": [
            "Added 1 x Laptop to the cart.\n",
            "Added 2 x Mouse to the cart.\n",
            "Added 1 x Keyboard to the cart.\n",
            "\n",
            "--- Calculating Total Bill ---\n",
            "Laptop: $1000 x 1 - $100.00 discount = $900.00\n",
            "Mouse: $25 x 2 = $50.00\n",
            "Keyboard: $75 x 1 - $7.50 discount = $67.50\n",
            "----------------------------\n",
            "Total Bill: $1017.50\n",
            "Removed Mouse from the cart.\n",
            "\n",
            "--- Calculating Total Bill ---\n",
            "Laptop: $1000 x 1 - $100.00 discount = $900.00\n",
            "Keyboard: $75 x 1 - $7.50 discount = $67.50\n",
            "----------------------------\n",
            "Total Bill: $967.50\n",
            "Monitor not found in the cart.\n"
          ]
        }
      ]
    },
    {
      "cell_type": "markdown",
      "source": [
        "****"
      ],
      "metadata": {
        "id": "pAtBdIIMTugF"
      }
    }
  ]
}