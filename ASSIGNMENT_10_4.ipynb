{
  "nbformat": 4,
  "nbformat_minor": 0,
  "metadata": {
    "colab": {
      "provenance": [],
      "authorship_tag": "ABX9TyM5DAm50lidd+gcfKw13Q6O",
      "include_colab_link": true
    },
    "kernelspec": {
      "name": "python3",
      "display_name": "Python 3"
    },
    "language_info": {
      "name": "python"
    }
  },
  "cells": [
    {
      "cell_type": "markdown",
      "metadata": {
        "id": "view-in-github",
        "colab_type": "text"
      },
      "source": [
        "<a href=\"https://colab.research.google.com/github/Indra1206/AI-ASSIGNMENTS/blob/main/ASSIGNMENT_10_4.ipynb\" target=\"_parent\"><img src=\"https://colab.research.google.com/assets/colab-badge.svg\" alt=\"Open In Colab\"/></a>"
      ]
    },
    {
      "cell_type": "markdown",
      "source": [
        "**TASK 1:**"
      ],
      "metadata": {
        "id": "S1VD7w6qsvOv"
      }
    },
    {
      "cell_type": "code",
      "execution_count": null,
      "metadata": {
        "colab": {
          "base_uri": "https://localhost:8080/"
        },
        "id": "sWi4qsYekf5g",
        "outputId": "8d72ee2b-f5d9-43ac-d11d-59fe139a3961"
      },
      "outputs": [
        {
          "output_type": "stream",
          "name": "stdout",
          "text": [
            "30\n"
          ]
        }
      ],
      "source": [
        "def add_numbers(a, b):\n",
        "  result = a + b\n",
        "  return result\n",
        "print(add_numbers(10, 20))"
      ]
    },
    {
      "cell_type": "markdown",
      "source": [
        "**Task 2:**"
      ],
      "metadata": {
        "id": "TAmEJjnxv5nG"
      }
    },
    {
      "cell_type": "code",
      "source": [
        "def find_duplicates(nums):\n",
        "   duplicates = []\n",
        "   for i in range(len(nums)):\n",
        "     for j in range(len(nums)):\n",
        "       if i != j and nums[i] == nums[j] and nums[i] not in duplicates:\n",
        "         duplicates.append(nums[i])\n",
        "   return duplicates\n",
        "numbers = [1,2,3,2,4,5,1,6,1,2]\n",
        "print(find_duplicates(numbers))"
      ],
      "metadata": {
        "colab": {
          "base_uri": "https://localhost:8080/"
        },
        "id": "OjjERfyVuphO",
        "outputId": "c5d92b14-5bc2-405c-e2fe-806fc68ae3e3"
      },
      "execution_count": null,
      "outputs": [
        {
          "output_type": "stream",
          "name": "stdout",
          "text": [
            "[1, 2]\n"
          ]
        }
      ]
    },
    {
      "cell_type": "markdown",
      "source": [
        "**Task 3:**"
      ],
      "metadata": {
        "id": "651fVZXPzbM_"
      }
    },
    {
      "cell_type": "code",
      "source": [
        "def c(n):\n",
        "  x=1\n",
        "  for i in range(1,n+1):\n",
        "    x=x*i\n",
        "  return x\n",
        "print(c(5))"
      ],
      "metadata": {
        "colab": {
          "base_uri": "https://localhost:8080/"
        },
        "id": "GYchyIDnv_Ot",
        "outputId": "b0758c13-2562-49e5-9c1a-442797644105"
      },
      "execution_count": null,
      "outputs": [
        {
          "output_type": "stream",
          "name": "stdout",
          "text": [
            "120\n"
          ]
        }
      ]
    },
    {
      "cell_type": "markdown",
      "source": [
        "**Task 4:**"
      ],
      "metadata": {
        "id": "aacaQ6UT4JFH"
      }
    },
    {
      "cell_type": "code",
      "metadata": {
        "id": "c5d5d58c"
      },
      "source": [
        "import sqlite3\n",
        "\n",
        "def create_users_table():\n",
        "    conn = sqlite3.connect(\"users.db\")\n",
        "    cursor = conn.cursor()\n",
        "    cursor.execute('''\n",
        "        CREATE TABLE IF NOT EXISTS users (\n",
        "            id INTEGER PRIMARY KEY,\n",
        "            name TEXT,\n",
        "            email TEXT\n",
        "        )\n",
        "    ''')\n",
        "    # Check if the table is empty before inserting sample data\n",
        "    cursor.execute(\"SELECT COUNT(*) FROM users\")\n",
        "    count = cursor.fetchone()[0]\n",
        "    if count == 0:\n",
        "        # Optionally, insert some sample data\n",
        "        cursor.execute(\"INSERT INTO users (id, name, email) VALUES (?, ?, ?)\", (1, 'Alice', 'alice@example.com'))\n",
        "        cursor.execute(\"INSERT INTO users (id, name, email) VALUES (?, ?, ?)\", (2, 'Bob', 'bob@example.com'))\n",
        "    conn.commit()\n",
        "    conn.close()\n",
        "\n",
        "# Create the table before trying to query it\n",
        "create_users_table()"
      ],
      "execution_count": null,
      "outputs": []
    },
    {
      "cell_type": "markdown",
      "source": [
        "**Task 5:**"
      ],
      "metadata": {
        "id": "RacGpxtj4Ou9"
      }
    },
    {
      "cell_type": "code",
      "source": [
        "def calc(x,y,z):\n",
        "  if z==\"add\":\n",
        "    return x+y\n",
        "  elif z==\"sub\":\n",
        "    return x-y\n",
        "  elif z==\"mul\":\n",
        "    return x*y\n",
        "  elif z==\"div\":\n",
        "    if y != 0:\n",
        "      return x/y\n",
        "    else:\n",
        "      return \"Error: Division by zero\"\n",
        "  else:\n",
        "    print(\"wrong\")\n",
        "print(calc(10,5,\"add\"))\n",
        "print(calc(10,0,\"div\"))"
      ],
      "metadata": {
        "colab": {
          "base_uri": "https://localhost:8080/"
        },
        "id": "8LTmfBzN4SGO",
        "outputId": "d8ab3879-2db1-4aae-d5e8-a1eca90c82a6"
      },
      "execution_count": null,
      "outputs": [
        {
          "output_type": "stream",
          "name": "stdout",
          "text": [
            "15\n",
            "Error: Division by zero\n"
          ]
        }
      ]
    }
  ]
}