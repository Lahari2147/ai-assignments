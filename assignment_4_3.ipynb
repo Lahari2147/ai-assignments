{
  "nbformat": 4,
  "nbformat_minor": 0,
  "metadata": {
    "colab": {
      "provenance": [],
      "authorship_tag": "ABX9TyMc/IHSfjavX/Dulwl1RYhx",
      "include_colab_link": true
    },
    "kernelspec": {
      "name": "python3",
      "display_name": "Python 3"
    },
    "language_info": {
      "name": "python"
    }
  },
  "cells": [
    {
      "cell_type": "markdown",
      "metadata": {
        "id": "view-in-github",
        "colab_type": "text"
      },
      "source": [
        "<a href=\"https://colab.research.google.com/github/Indra1206/AI-ASSIGNMENTS/blob/main/assignment_4_3.ipynb\" target=\"_parent\"><img src=\"https://colab.research.google.com/assets/colab-badge.svg\" alt=\"Open In Colab\"/></a>"
      ]
    },
    {
      "cell_type": "markdown",
      "source": [
        "**task 1**\n",
        "**:zero-shot prompt-fibanocci series generator\n",
        "Task Description #1**\n",
        "\n"
      ],
      "metadata": {
        "id": "uL2zZe7mR0pU"
      }
    },
    {
      "cell_type": "markdown",
      "source": [
        "**prompt:Generate a python function to print the first n fibannaci numbers**"
      ],
      "metadata": {
        "id": "M4vYXLTnvIo6"
      }
    },
    {
      "cell_type": "code",
      "metadata": {
        "colab": {
          "base_uri": "https://localhost:8080/"
        },
        "id": "06448868",
        "outputId": "44a45ecf-30db-4103-99ad-91ee694e65f4"
      },
      "source": [
        "def print_fibonacci(n):\n",
        "  \"\"\"Prints the first n Fibonacci numbers.\n",
        "\n",
        "  Args:\n",
        "    n: The number of Fibonacci numbers to print.\n",
        "  \"\"\"\n",
        "  a, b = 0, 1\n",
        "  count = 0\n",
        "  while count < n:\n",
        "    print(a)\n",
        "    a, b = b, a + b\n",
        "    count += 1\n",
        "\n",
        "# Example usage:\n",
        "print_fibonacci(10)\n"
      ],
      "execution_count": null,
      "outputs": [
        {
          "output_type": "stream",
          "name": "stdout",
          "text": [
            "0\n",
            "1\n",
            "1\n",
            "2\n",
            "3\n",
            "5\n",
            "8\n",
            "13\n",
            "21\n",
            "34\n"
          ]
        }
      ]
    },
    {
      "cell_type": "markdown",
      "source": [
        "**TASK 2:One-shot Prompt – List Reversal Function**"
      ],
      "metadata": {
        "id": "EoOmdJnXvGfK"
      }
    },
    {
      "cell_type": "markdown",
      "source": [
        "**PROMPT:create a python function that reverse a list"
      ],
      "metadata": {
        "id": "O_Z_y3YZwCYs"
      }
    },
    {
      "cell_type": "code",
      "metadata": {
        "id": "646c665e",
        "outputId": "61defb99-0f94-491d-d9f5-8ccd7d0e97fc",
        "colab": {
          "base_uri": "https://localhost:8080/"
        }
      },
      "source": [
        "def reverse_list(input_list):\n",
        "  \"\"\"Reverses a list.\n",
        "\n",
        "  Args:\n",
        "    input_list: The list to reverse.\n",
        "\n",
        "  Returns:\n",
        "    The reversed list.\n",
        "  \"\"\"\n",
        "  return input_list[::-1]\n",
        "\n",
        "# Final example usage:\n",
        "last_list = [5, 4, 3, 2, 1]\n",
        "reversed_last_list = reverse_list(last_list)\n",
        "print(reversed_last_list)"
      ],
      "execution_count": null,
      "outputs": [
        {
          "output_type": "stream",
          "name": "stdout",
          "text": [
            "[1, 2, 3, 4, 5]\n"
          ]
        }
      ]
    },
    {
      "cell_type": "markdown",
      "source": [
        "**Task 3: Few-shot Prompt – String Pattern Matching\n",
        "Task Description #3**"
      ],
      "metadata": {
        "id": "MDMsWXsow8wc"
      }
    },
    {
      "cell_type": "markdown",
      "source": [
        "**prompt: Check if string starts with capital and ends with period: # Examples: \"Hello.\" ✅, \"hello.\" ❌, \"Hello\" ❌"
      ],
      "metadata": {
        "id": "Ct8tG41txQIf"
      }
    },
    {
      "cell_type": "code",
      "metadata": {
        "colab": {
          "base_uri": "https://localhost:8080/"
        },
        "id": "2f3c91f0",
        "outputId": "1d89b6be-db20-449c-c205-7acaedc58b70"
      },
      "source": [
        "import re\n",
        "\n",
        "def check_string_pattern(input_string):\n",
        "  \"\"\"\n",
        "  Checks if a string starts with a capital letter and ends with a period.\n",
        "\n",
        "  Args:\n",
        "    input_string: The string to check.\n",
        "\n",
        "  Returns:\n",
        "    True if the string starts with a capital letter and ends with a period,\n",
        "    False otherwise.\n",
        "  \"\"\"\n",
        "  pattern = r'^[A-Z].*\\.$'\n",
        "  return re.match(pattern, input_string) is not None\n",
        "\n",
        "# Examples:\n",
        "print(f'\"Hello.\" ✅: {check_string_pattern(\"Hello.\")}')\n",
        "print(f'\"hello.\" ❌: {check_string_pattern(\"hello.\")}')\n",
        "print(f'\"Hello\" ❌: {check_string_pattern(\"Hello\")}')"
      ],
      "execution_count": null,
      "outputs": [
        {
          "output_type": "stream",
          "name": "stdout",
          "text": [
            "\"Hello.\" ✅: True\n",
            "\"hello.\" ❌: False\n",
            "\"Hello\" ❌: False\n"
          ]
        }
      ]
    },
    {
      "cell_type": "markdown",
      "source": [
        "**Task 4: Zero-shot vs Few-shot – Email Validator\n",
        "Task Description #4**"
      ],
      "metadata": {
        "id": "oLm8GdrCy0TS"
      }
    },
    {
      "cell_type": "markdown",
      "source": [
        "**prompt:Write a Python function that checks if a string is a valid email address using regular expressions. Return True if valid, False otherwise.\"**"
      ],
      "metadata": {
        "id": "qrdOlpJky4fn"
      }
    },
    {
      "cell_type": "code",
      "metadata": {
        "colab": {
          "base_uri": "https://localhost:8080/"
        },
        "id": "bf26fde4",
        "outputId": "857c39aa-40e6-4554-d49a-66533c65baae"
      },
      "source": [
        "import re\n",
        "\n",
        "def is_valid_email(email_string):\n",
        "  \"\"\"\n",
        "  Checks if a string is a valid email address using regular expressions.\n",
        "\n",
        "  Args:\n",
        "    email_string: The string to check.\n",
        "\n",
        "  Returns:\n",
        "    True if the string is a valid email address, False otherwise.\n",
        "  \"\"\"\n",
        "  # A basic regex for email validation\n",
        "  pattern = r'^[a-zA-Z0-9._%+-]+@[a-zA-Z0-9.-]+\\.[a-zA-Z]{2,}$'\n",
        "  return re.match(pattern, email_string) is not None\n",
        "\n",
        "# Example usage:\n",
        "print(f\"'test@example.com' is valid: {is_valid_email('test@example.com')}\")\n",
        "print(f\"'invalid-email' is valid: {is_valid_email('invalid-email')}\")\n",
        "print(f\"'another.test@sub.domain.co.uk' is valid: {is_valid_email('another.test@sub.domain.co.uk')}\")"
      ],
      "execution_count": null,
      "outputs": [
        {
          "output_type": "stream",
          "name": "stdout",
          "text": [
            "'test@example.com' is valid: True\n",
            "'invalid-email' is valid: False\n",
            "'another.test@sub.domain.co.uk' is valid: True\n"
          ]
        }
      ]
    },
    {
      "cell_type": "markdown",
      "source": [
        "**Task 5: Prompt Tuning – Summing Digits of a Number\n",
        "Task Description #5**"
      ],
      "metadata": {
        "id": "bH_9mFiOzoLf"
      }
    },
    {
      "cell_type": "markdown",
      "source": [
        "**prompt:Experiment with 2 different prompt styles to generate a function that returns the sum\n",
        "of digits of a number.\n",
        "Style 1: Generic task prompt\n",
        "Style 2: Task + Input/Output example**"
      ],
      "metadata": {
        "id": "6JcgZ8I4zuvP"
      }
    },
    {
      "cell_type": "markdown",
      "metadata": {
        "id": "7aa7b15d"
      },
      "source": [
        "**Task 5: Prompt Tuning – Summing Digits of a Number**\n",
        "\n",
        "**Style 1: Generic task prompt**"
      ]
    },
    {
      "cell_type": "code",
      "metadata": {
        "colab": {
          "base_uri": "https://localhost:8080/"
        },
        "id": "78de9366",
        "outputId": "e12566e5-3d9e-4fd0-9b88-853e5901f27b"
      },
      "source": [
        "def sum_digits_generic(number):\n",
        "  \"\"\"\n",
        "  Calculates the sum of the digits of a number using a generic approach.\n",
        "\n",
        "  Args:\n",
        "    number: The input number (integer).\n",
        "\n",
        "  Returns:\n",
        "    The sum of the digits.\n",
        "  \"\"\"\n",
        "  return sum(int(digit) for digit in str(number))\n",
        "\n",
        "# Example usage:\n",
        "num = 12345\n",
        "sum_generic = sum_digits_generic(num)\n",
        "print(f\"The sum of digits of {num} (Generic Style) is: {sum_generic}\")"
      ],
      "execution_count": null,
      "outputs": [
        {
          "output_type": "stream",
          "name": "stdout",
          "text": [
            "The sum of digits of 12345 (Generic Style) is: 15\n"
          ]
        }
      ]
    },
    {
      "cell_type": "markdown",
      "metadata": {
        "id": "7583ee9e"
      },
      "source": [
        "**Style 2: Task + Input/Output example**"
      ]
    },
    {
      "cell_type": "code",
      "metadata": {
        "colab": {
          "base_uri": "https://localhost:8080/"
        },
        "id": "4fd32cb2",
        "outputId": "2afd1475-45b0-444e-e044-83b429c567ca"
      },
      "source": [
        "def sum_digits_with_example(number):\n",
        "  \"\"\"\n",
        "  Calculates the sum of the digits of a number, with an example provided.\n",
        "\n",
        "  Args:\n",
        "    number: The input number (integer).\n",
        "\n",
        "  Returns:\n",
        "    The sum of the digits.\n",
        "  \"\"\"\n",
        "  # Example provided in the prompt: Input: 6789, Output: 30\n",
        "  # This example helps clarify the expected behavior.\n",
        "  return sum(int(digit) for digit in str(number))\n",
        "\n",
        "# Example usage based on the prompt example:\n",
        "num_example = 6789\n",
        "sum_with_example = sum_digits_with_example(num_example)\n",
        "print(f\"The sum of digits of {num_example} (Style with Example) is: {sum_with_example}\")\n",
        "\n",
        "# Another example:\n",
        "test_number = 54321\n",
        "digit_sum = sum_digits_with_example(test_number)\n",
        "print(f\"The sum of digits of {test_number} is: {digit_sum}\")"
      ],
      "execution_count": null,
      "outputs": [
        {
          "output_type": "stream",
          "name": "stdout",
          "text": [
            "The sum of digits of 6789 (Style with Example) is: 30\n",
            "The sum of digits of 54321 is: 15\n"
          ]
        }
      ]
    }
  ]
}