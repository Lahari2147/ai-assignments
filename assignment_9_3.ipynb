{
  "nbformat": 4,
  "nbformat_minor": 0,
  "metadata": {
    "colab": {
      "provenance": [],
      "authorship_tag": "ABX9TyOaxD3FQ43/t5qJ+0vdw0kF",
      "include_colab_link": true
    },
    "kernelspec": {
      "name": "python3",
      "display_name": "Python 3"
    },
    "language_info": {
      "name": "python"
    }
  },
  "cells": [
    {
      "cell_type": "markdown",
      "metadata": {
        "id": "view-in-github",
        "colab_type": "text"
      },
      "source": [
        "<a href=\"https://colab.research.google.com/github/Indra1206/AI-ASSIGNMENTS/blob/main/assignment_9_3.ipynb\" target=\"_parent\"><img src=\"https://colab.research.google.com/assets/colab-badge.svg\" alt=\"Open In Colab\"/></a>"
      ]
    },
    {
      "cell_type": "markdown",
      "source": [
        "**Task 1:Basic Docstring Generation**\n",
        "\n",
        "\n",
        "\n",
        "**prompt:Write a Python function that returns the sum of even and odd numbers in a list, and generate both a manually written Google-Style docstring and an AI-generated docstring for comparison**"
      ],
      "metadata": {
        "id": "Hc1wdjb47eEp"
      }
    },
    {
      "cell_type": "code",
      "metadata": {
        "id": "0dda9c7f"
      },
      "source": [
        "def sum_even_odd(numbers):\n",
        "  \"\"\"Calculate the sum of even and odd numbers in a list.\n",
        "\n",
        "  Args:\n",
        "    numbers: A list of integers.\n",
        "\n",
        "  Returns:\n",
        "    A tuple containing the sum of even numbers and the sum of odd numbers.\n",
        "  \"\"\"\n",
        "  sum_even = 0\n",
        "  sum_odd = 0\n",
        "  for number in numbers:\n",
        "    if number % 2 == 0:\n",
        "      sum_even += number\n",
        "    else:\n",
        "      sum_odd += number\n",
        "  return sum_even, sum_odd"
      ],
      "execution_count": null,
      "outputs": []
    },
    {
      "cell_type": "markdown",
      "metadata": {
        "id": "bb9a6b91"
      },
      "source": [
        "Now, let's generate an AI-powered docstring for comparison. We can use a tool like the `docstring_gen` library for this purpose."
      ]
    },
    {
      "cell_type": "code",
      "metadata": {
        "colab": {
          "base_uri": "https://localhost:8080/"
        },
        "id": "90a73b1b",
        "outputId": "a078d81d-2309-4e27-ca71-126cad4b55e4"
      },
      "source": [
        "# Install the docstring_gen library\n",
        "!pip install docstring_gen"
      ],
      "execution_count": null,
      "outputs": [
        {
          "output_type": "stream",
          "name": "stdout",
          "text": [
            "Collecting docstring_gen\n",
            "  Downloading docstring_gen-0.4.0-py3-none-any.whl.metadata (9.2 kB)\n",
            "Requirement already satisfied: nbformat>=5.7.1 in /usr/local/lib/python3.12/dist-packages (from docstring_gen) (5.10.4)\n",
            "Requirement already satisfied: typer>=0.7.0 in /usr/local/lib/python3.12/dist-packages (from typer[all]>=0.7.0->docstring_gen) (0.17.3)\n",
            "Collecting openai==0.27.2 (from docstring_gen)\n",
            "  Downloading openai-0.27.2-py3-none-any.whl.metadata (13 kB)\n",
            "Collecting mypy-extensions==1.0.0 (from docstring_gen)\n",
            "  Downloading mypy_extensions-1.0.0-py3-none-any.whl.metadata (1.1 kB)\n",
            "Requirement already satisfied: requests>=2.20 in /usr/local/lib/python3.12/dist-packages (from openai==0.27.2->docstring_gen) (2.32.4)\n",
            "Requirement already satisfied: tqdm in /usr/local/lib/python3.12/dist-packages (from openai==0.27.2->docstring_gen) (4.67.1)\n",
            "Requirement already satisfied: aiohttp in /usr/local/lib/python3.12/dist-packages (from openai==0.27.2->docstring_gen) (3.12.15)\n",
            "Requirement already satisfied: fastjsonschema>=2.15 in /usr/local/lib/python3.12/dist-packages (from nbformat>=5.7.1->docstring_gen) (2.21.2)\n",
            "Requirement already satisfied: jsonschema>=2.6 in /usr/local/lib/python3.12/dist-packages (from nbformat>=5.7.1->docstring_gen) (4.25.1)\n",
            "Requirement already satisfied: jupyter-core!=5.0.*,>=4.12 in /usr/local/lib/python3.12/dist-packages (from nbformat>=5.7.1->docstring_gen) (5.8.1)\n",
            "Requirement already satisfied: traitlets>=5.1 in /usr/local/lib/python3.12/dist-packages (from nbformat>=5.7.1->docstring_gen) (5.7.1)\n",
            "Requirement already satisfied: click>=8.0.0 in /usr/local/lib/python3.12/dist-packages (from typer>=0.7.0->typer[all]>=0.7.0->docstring_gen) (8.2.1)\n",
            "Requirement already satisfied: typing-extensions>=3.7.4.3 in /usr/local/lib/python3.12/dist-packages (from typer>=0.7.0->typer[all]>=0.7.0->docstring_gen) (4.15.0)\n",
            "Requirement already satisfied: shellingham>=1.3.0 in /usr/local/lib/python3.12/dist-packages (from typer>=0.7.0->typer[all]>=0.7.0->docstring_gen) (1.5.4)\n",
            "Requirement already satisfied: rich>=10.11.0 in /usr/local/lib/python3.12/dist-packages (from typer>=0.7.0->typer[all]>=0.7.0->docstring_gen) (13.9.4)\n",
            "\u001b[33mWARNING: typer 0.17.3 does not provide the extra 'all'\u001b[0m\u001b[33m\n",
            "\u001b[0mRequirement already satisfied: attrs>=22.2.0 in /usr/local/lib/python3.12/dist-packages (from jsonschema>=2.6->nbformat>=5.7.1->docstring_gen) (25.3.0)\n",
            "Requirement already satisfied: jsonschema-specifications>=2023.03.6 in /usr/local/lib/python3.12/dist-packages (from jsonschema>=2.6->nbformat>=5.7.1->docstring_gen) (2025.4.1)\n",
            "Requirement already satisfied: referencing>=0.28.4 in /usr/local/lib/python3.12/dist-packages (from jsonschema>=2.6->nbformat>=5.7.1->docstring_gen) (0.36.2)\n",
            "Requirement already satisfied: rpds-py>=0.7.1 in /usr/local/lib/python3.12/dist-packages (from jsonschema>=2.6->nbformat>=5.7.1->docstring_gen) (0.27.1)\n",
            "Requirement already satisfied: platformdirs>=2.5 in /usr/local/lib/python3.12/dist-packages (from jupyter-core!=5.0.*,>=4.12->nbformat>=5.7.1->docstring_gen) (4.4.0)\n",
            "Requirement already satisfied: charset_normalizer<4,>=2 in /usr/local/lib/python3.12/dist-packages (from requests>=2.20->openai==0.27.2->docstring_gen) (3.4.3)\n",
            "Requirement already satisfied: idna<4,>=2.5 in /usr/local/lib/python3.12/dist-packages (from requests>=2.20->openai==0.27.2->docstring_gen) (3.10)\n",
            "Requirement already satisfied: urllib3<3,>=1.21.1 in /usr/local/lib/python3.12/dist-packages (from requests>=2.20->openai==0.27.2->docstring_gen) (2.5.0)\n",
            "Requirement already satisfied: certifi>=2017.4.17 in /usr/local/lib/python3.12/dist-packages (from requests>=2.20->openai==0.27.2->docstring_gen) (2025.8.3)\n",
            "Requirement already satisfied: markdown-it-py>=2.2.0 in /usr/local/lib/python3.12/dist-packages (from rich>=10.11.0->typer>=0.7.0->typer[all]>=0.7.0->docstring_gen) (4.0.0)\n",
            "Requirement already satisfied: pygments<3.0.0,>=2.13.0 in /usr/local/lib/python3.12/dist-packages (from rich>=10.11.0->typer>=0.7.0->typer[all]>=0.7.0->docstring_gen) (2.19.2)\n",
            "Requirement already satisfied: aiohappyeyeballs>=2.5.0 in /usr/local/lib/python3.12/dist-packages (from aiohttp->openai==0.27.2->docstring_gen) (2.6.1)\n",
            "Requirement already satisfied: aiosignal>=1.4.0 in /usr/local/lib/python3.12/dist-packages (from aiohttp->openai==0.27.2->docstring_gen) (1.4.0)\n",
            "Requirement already satisfied: frozenlist>=1.1.1 in /usr/local/lib/python3.12/dist-packages (from aiohttp->openai==0.27.2->docstring_gen) (1.7.0)\n",
            "Requirement already satisfied: multidict<7.0,>=4.5 in /usr/local/lib/python3.12/dist-packages (from aiohttp->openai==0.27.2->docstring_gen) (6.6.4)\n",
            "Requirement already satisfied: propcache>=0.2.0 in /usr/local/lib/python3.12/dist-packages (from aiohttp->openai==0.27.2->docstring_gen) (0.3.2)\n",
            "Requirement already satisfied: yarl<2.0,>=1.17.0 in /usr/local/lib/python3.12/dist-packages (from aiohttp->openai==0.27.2->docstring_gen) (1.20.1)\n",
            "Requirement already satisfied: mdurl~=0.1 in /usr/local/lib/python3.12/dist-packages (from markdown-it-py>=2.2.0->rich>=10.11.0->typer>=0.7.0->typer[all]>=0.7.0->docstring_gen) (0.1.2)\n",
            "Downloading docstring_gen-0.4.0-py3-none-any.whl (16 kB)\n",
            "Downloading mypy_extensions-1.0.0-py3-none-any.whl (4.7 kB)\n",
            "Downloading openai-0.27.2-py3-none-any.whl (70 kB)\n",
            "\u001b[2K   \u001b[90m━━━━━━━━━━━━━━━━━━━━━━━━━━━━━━━━━━━━━━━━\u001b[0m \u001b[32m70.1/70.1 kB\u001b[0m \u001b[31m2.9 MB/s\u001b[0m eta \u001b[36m0:00:00\u001b[0m\n",
            "\u001b[?25hInstalling collected packages: mypy-extensions, openai, docstring_gen\n",
            "  Attempting uninstall: openai\n",
            "    Found existing installation: openai 1.106.1\n",
            "    Uninstalling openai-1.106.1:\n",
            "      Successfully uninstalled openai-1.106.1\n",
            "Successfully installed docstring_gen-0.4.0 mypy-extensions-1.0.0 openai-0.27.2\n"
          ]
        }
      ]
    },
    {
      "cell_type": "code",
      "metadata": {
        "colab": {
          "base_uri": "https://localhost:8080/"
        },
        "id": "9dc11d48",
        "outputId": "7f48d5bc-97d5-460f-f331-d518a55a4185"
      },
      "source": [
        "# from docstring_gen.generator import DocstringGenerator # Commenting out the old import\n",
        "\n",
        "# Try importing from the top-level package or a different submodule if the above fails\n",
        "try:\n",
        "    from docstring_gen.generator import DocstringGenerator\n",
        "except ImportError:\n",
        "    # If the above import fails, try importing from the top-level package\n",
        "    try:\n",
        "        from docstring_gen import DocstringGenerator\n",
        "    except ImportError:\n",
        "        print(\"Could not import DocstringGenerator from docstring_gen or docstring_gen.generator.\")\n",
        "        print(\"Please check the library documentation for the correct import path.\")\n",
        "\n",
        "\n",
        "# Get the source code of the function\n",
        "import inspect\n",
        "function_source = inspect.getsource(sum_even_odd)\n",
        "\n",
        "# Generate the AI docstring\n",
        "# Check if DocstringGenerator was successfully imported before using it\n",
        "if 'DocstringGenerator' in locals():\n",
        "    generator = DocstringGenerator()\n",
        "    ai_docstring = generator.generate_docstring(function_source)\n",
        "\n",
        "    print(\"--- Manual Docstring ---\")\n",
        "    print(sum_even_odd.__doc__)\n",
        "    print(\"\\n--- AI-Generated Docstring ---\")\n",
        "    print(ai_docstring)\n",
        "else:\n",
        "    print(\"Docstring generation skipped due to import error.\")"
      ],
      "execution_count": null,
      "outputs": [
        {
          "output_type": "stream",
          "name": "stdout",
          "text": [
            "Could not import DocstringGenerator from docstring_gen or docstring_gen.generator.\n",
            "Please check the library documentation for the correct import path.\n",
            "Docstring generation skipped due to import error.\n"
          ]
        }
      ]
    },
    {
      "cell_type": "markdown",
      "source": [
        "**task 2:Automatic Inline Comments**\n",
        "\n",
        "**Write a Python program defining a sru_student class with attributes (name, roll_no, hostel_status), methods (fee_update, display_details), add detailed manual inline comments, then use an AI tool to generate inline comments for the same code and finally compare the AI-generated comments with your manual ones.**"
      ],
      "metadata": {
        "id": "x8fIsAnO89-R"
      }
    },
    {
      "cell_type": "code",
      "metadata": {
        "colab": {
          "base_uri": "https://localhost:8080/"
        },
        "id": "cd7e8df6",
        "outputId": "e2912eec-64f2-47c1-93fc-fb4748a51184"
      },
      "source": [
        "class sru_student:\n",
        "    # Initialize the student object with name, roll number, and hostel status\n",
        "    def __init__(self, name, roll_no, hostel_status):\n",
        "        self.name = name  # Store the student's name\n",
        "        self.roll_no = roll_no  # Store the student's roll number\n",
        "        self.hostel_status = hostel_status  # Store the student's hostel status (True if in hostel, False otherwise)\n",
        "        self.fees_paid = 0  # Initialize the fees paid to 0\n",
        "\n",
        "    # Method to update the fees paid by the student\n",
        "    def fee_update(self, amount):\n",
        "        if amount > 0:\n",
        "            self.fees_paid += amount  # Add the paid amount to the total fees paid\n",
        "            print(f\"Fees updated for {self.name}. Total fees paid: {self.fees_paid}\") # Print a confirmation message\n",
        "        else:\n",
        "            print(\"Invalid amount. Please enter a positive value.\") # Print an error message for invalid amount\n",
        "\n",
        "    # Method to display the student's details\n",
        "    def display_details(self):\n",
        "        print(\"\\n--- Student Details ---\") # Print a header for student details\n",
        "        print(f\"Name: {self.name}\") # Display the student's name\n",
        "        print(f\"Roll Number: {self.roll_no}\") # Display the student's roll number\n",
        "        print(f\"Hostel Status: {'In Hostel' if self.hostel_status else 'Not in Hostel'}\") # Display the hostel status\n",
        "        print(f\"Total Fees Paid: {self.fees_paid}\") # Display the total fees paid\n",
        "        print(\"-----------------------\") # Print a footer for student details\n",
        "\n",
        "# Example usage of the class\n",
        "# Create a new student object\n",
        "student1 = sru_student(\"Alice\", \"SRU123\", True)\n",
        "# Update the fees paid by the student\n",
        "student1.fee_update(5000)\n",
        "# Display the student's details\n",
        "student1.display_details()\n",
        "\n",
        "# Create another student object\n",
        "student2 = sru_student(\"Bob\", \"SRU456\", False)\n",
        "# Update the fees paid by the student\n",
        "student2.fee_update(3000)\n",
        "student2.fee_update(1000) # Update fees again\n",
        "# Display the second student's details\n",
        "student2.display_details()"
      ],
      "execution_count": null,
      "outputs": [
        {
          "output_type": "stream",
          "name": "stdout",
          "text": [
            "Fees updated for Alice. Total fees paid: 5000\n",
            "\n",
            "--- Student Details ---\n",
            "Name: Alice\n",
            "Roll Number: SRU123\n",
            "Hostel Status: In Hostel\n",
            "Total Fees Paid: 5000\n",
            "-----------------------\n",
            "Fees updated for Bob. Total fees paid: 3000\n",
            "Fees updated for Bob. Total fees paid: 4000\n",
            "\n",
            "--- Student Details ---\n",
            "Name: Bob\n",
            "Roll Number: SRU456\n",
            "Hostel Status: Not in Hostel\n",
            "Total Fees Paid: 4000\n",
            "-----------------------\n"
          ]
        }
      ]
    },
    {
      "cell_type": "markdown",
      "metadata": {
        "id": "877cb415"
      },
      "source": [
        "Now, let's generate AI-powered inline comments for comparison. We can use a tool like the `docstring_gen` library, although its primary focus is docstrings, we can explore its capabilities or look for other tools that can generate inline comments."
      ]
    },
    {
      "cell_type": "code",
      "metadata": {
        "id": "fa639a46"
      },
      "source": [
        "# Note: Generating inline comments with an AI tool is not as standardized\n",
        "# as generating docstrings. The 'docstring_gen' library is primarily\n",
        "# designed for docstring generation. We will explore if it has any\n",
        "# features for inline comments or demonstrate how an AI could\n",
        "# generate comments based on the code structure.\n",
        "\n",
        "# For demonstration purposes, I will simulate AI-generated comments\n",
        "# by re-generating the code with comments that an AI might produce,\n",
        "# which might be more descriptive or slightly different in style\n",
        "# compared to the manual ones.\n",
        "\n",
        "# Here is the code with simulated AI-generated inline comments:\n",
        "\n",
        "class sru_student_ai_comments:\n",
        "    # Constructor to initialize student attributes\n",
        "    def __init__(self, name, roll_no, hostel_status):\n",
        "        self.name = name  # Assign the provided name to the student object\n",
        "        self.roll_no = roll_no  # Assign the provided roll number to the student object\n",
        "        self.hostel_status = hostel_status  # Assign the hostel status (True for in-hostel, False otherwise)\n",
        "        self.fees_paid = 0  # Initialize the fees paid amount to zero\n",
        "\n",
        "    # Method to update the student's fee payment\n",
        "    def fee_update(self, amount):\n",
        "        # Check if the payment amount is positive\n",
        "        if amount > 0:\n",
        "            self.fees_paid += amount  # Add the valid payment amount to the total fees paid\n",
        "            # Print a confirmation message with the student's name and updated fees\n",
        "            print(f\"Fees updated for {self.name}. Total fees paid: {self.fees_paid}\")\n",
        "        else:\n",
        "            # Print an error message for an invalid (non-positive) amount\n",
        "            print(\"Invalid amount. Please enter a positive value.\")\n",
        "\n",
        "    # Method to display all details of the student\n",
        "    def display_details(self):\n",
        "        # Print a separator before displaying student details\n",
        "        print(\"\\n--- Student Details ---\")\n",
        "        print(f\"Name: {self.name}\")  # Display the student's name\n",
        "        print(f\"Roll Number: {self.roll_no}\")  # Display the student's roll number\n",
        "        # Display the hostel status as \"In Hostel\" or \"Not in Hostel\" based on the boolean value\n",
        "        print(f\"Hostel Status: {'In Hostel' if self.hostel_status else 'Not in Hostel'}\")\n",
        "        print(f\"Total Fees Paid: {self.fees_paid}\")  # Display the total fees paid by the student\n",
        "        # Print a separator after displaying student details\n",
        "        print(\"-----------------------\")\n",
        "\n",
        "# Now, let's compare the manual comments (in the previous cell) with these simulated AI comments.\n",
        "# You can visually inspect the two code cells to compare the style and content of the inline comments."
      ],
      "execution_count": null,
      "outputs": []
    },
    {
      "cell_type": "markdown",
      "source": [
        "**Task 3:**\n",
        "\n",
        "**Write a Python script with 3–4 calculator functions (add, subtract, multiply, divide) and document them manually using NumPy-style docstrings.**"
      ],
      "metadata": {
        "id": "bx81QJg_BF78"
      }
    },
    {
      "cell_type": "code",
      "metadata": {
        "id": "a753e6e3"
      },
      "source": [
        "# -*- coding: utf-8 -*-\n",
        "\"\"\"\n",
        "This module provides basic calculator functions.\n",
        "\n",
        "It includes functions for addition, subtraction, multiplication,\n",
        "and division, each with NumPy-style docstrings.\n",
        "\"\"\"\n",
        "\n",
        "def add(a, b):\n",
        "    \"\"\"\n",
        "    Add two numbers.\n",
        "\n",
        "    Parameters\n",
        "    ----------\n",
        "    a : float or int\n",
        "        The first number.\n",
        "    b : float or int\n",
        "        The second number.\n",
        "\n",
        "    Returns\n",
        "    -------\n",
        "    float or int\n",
        "        The sum of the two numbers.\n",
        "\n",
        "    Examples\n",
        "    --------\n",
        "    >>> add(2, 3)\n",
        "    5\n",
        "    >>> add(1.5, 2.5)\n",
        "    4.0\n",
        "    \"\"\"\n",
        "    return a + b\n",
        "\n",
        "def subtract(a, b):\n",
        "    \"\"\"\n",
        "    Subtract the second number from the first.\n",
        "\n",
        "    Parameters\n",
        "    ----------\n",
        "    a : float or int\n",
        "        The first number.\n",
        "    b : float or int\n",
        "        The second number.\n",
        "\n",
        "    Returns\n",
        "    -------\n",
        "    float or int\n",
        "        The difference between the two numbers.\n",
        "\n",
        "    Examples\n",
        "    --------\n",
        "    >>> subtract(5, 2)\n",
        "    3\n",
        "    >>> subtract(10.0, 3.5)\n",
        "    6.5\n",
        "    \"\"\"\n",
        "    return a - b\n",
        "\n",
        "def multiply(a, b):\n",
        "    \"\"\"\n",
        "    Multiply two numbers.\n",
        "\n",
        "    Parameters\n",
        "    ----------\n",
        "    a : float or int\n",
        "        The first number.\n",
        "    b : float or int\n",
        "        The second number.\n",
        "\n",
        "    Returns\n",
        "    -------\n",
        "    float or int\n",
        "        The product of the two numbers.\n",
        "\n",
        "    Examples\n",
        "    --------\n",
        "    >>> multiply(4, 5)\n",
        "    20\n",
        "    >>> multiply(2.5, 2)\n",
        "    5.0\n",
        "    \"\"\"\n",
        "    return a * b\n",
        "\n",
        "def divide(a, b):\n",
        "    \"\"\"\n",
        "    Divide the first number by the second.\n",
        "\n",
        "    Parameters\n",
        "    ----------\n",
        "    a : float or int\n",
        "        The numerator.\n",
        "    b : float or int\n",
        "        The denominator.\n",
        "\n",
        "    Returns\n",
        "    -------\n",
        "    float\n",
        "        The result of the division.\n",
        "\n",
        "    Raises\n",
        "    ------\n",
        "    ZeroDivisionError\n",
        "        If the denominator is zero.\n",
        "\n",
        "    Examples\n",
        "    --------\n",
        "    >>> divide(10, 2)\n",
        "    5.0\n",
        "    >>> divide(7, 0)\n",
        "    Traceback (most recent call last):\n",
        "        ...\n",
        "    ZeroDivisionError: division by zero\n",
        "    \"\"\"\n",
        "    if b == 0:\n",
        "        raise ZeroDivisionError(\"division by zero\")\n",
        "    return a / b\n",
        "\n",
        "# Example usage (optional)\n",
        "# print(f\"Addition: {add(5, 3)}\")\n",
        "# print(f\"Subtraction: {subtract(10, 4)}\")\n",
        "# print(f\"Multiplication: {multiply(6, 7)}\")\n",
        "# print(f\"Division: {divide(20, 5)}\")\n",
        "# print(f\"Division by zero: {divide(10, 0)}\") # This will raise an error"
      ],
      "execution_count": null,
      "outputs": []
    },
    {
      "cell_type": "markdown",
      "metadata": {
        "id": "91c3d7c1"
      },
      "source": [
        "Now, let's generate AI-powered docstrings for comparison. We can use a tool like the `docstring_gen` library for this purpose."
      ]
    },
    {
      "cell_type": "code",
      "metadata": {
        "colab": {
          "base_uri": "https://localhost:8080/"
        },
        "id": "732ac83d",
        "outputId": "ccbd7c6c-5af0-4b77-ef14-475dda59f1bc"
      },
      "source": [
        "# Install the docstring_gen library if you haven't already\n",
        "!pip install docstring_gen"
      ],
      "execution_count": null,
      "outputs": [
        {
          "output_type": "stream",
          "name": "stdout",
          "text": [
            "Requirement already satisfied: docstring_gen in /usr/local/lib/python3.12/dist-packages (0.4.0)\n",
            "Requirement already satisfied: nbformat>=5.7.1 in /usr/local/lib/python3.12/dist-packages (from docstring_gen) (5.10.4)\n",
            "Requirement already satisfied: typer>=0.7.0 in /usr/local/lib/python3.12/dist-packages (from typer[all]>=0.7.0->docstring_gen) (0.17.3)\n",
            "Requirement already satisfied: openai==0.27.2 in /usr/local/lib/python3.12/dist-packages (from docstring_gen) (0.27.2)\n",
            "Requirement already satisfied: mypy-extensions==1.0.0 in /usr/local/lib/python3.12/dist-packages (from docstring_gen) (1.0.0)\n",
            "Requirement already satisfied: requests>=2.20 in /usr/local/lib/python3.12/dist-packages (from openai==0.27.2->docstring_gen) (2.32.4)\n",
            "Requirement already satisfied: tqdm in /usr/local/lib/python3.12/dist-packages (from openai==0.27.2->docstring_gen) (4.67.1)\n",
            "Requirement already satisfied: aiohttp in /usr/local/lib/python3.12/dist-packages (from openai==0.27.2->docstring_gen) (3.12.15)\n",
            "Requirement already satisfied: fastjsonschema>=2.15 in /usr/local/lib/python3.12/dist-packages (from nbformat>=5.7.1->docstring_gen) (2.21.2)\n",
            "Requirement already satisfied: jsonschema>=2.6 in /usr/local/lib/python3.12/dist-packages (from nbformat>=5.7.1->docstring_gen) (4.25.1)\n",
            "Requirement already satisfied: jupyter-core!=5.0.*,>=4.12 in /usr/local/lib/python3.12/dist-packages (from nbformat>=5.7.1->docstring_gen) (5.8.1)\n",
            "Requirement already satisfied: traitlets>=5.1 in /usr/local/lib/python3.12/dist-packages (from nbformat>=5.7.1->docstring_gen) (5.7.1)\n",
            "Requirement already satisfied: click>=8.0.0 in /usr/local/lib/python3.12/dist-packages (from typer>=0.7.0->typer[all]>=0.7.0->docstring_gen) (8.2.1)\n",
            "Requirement already satisfied: typing-extensions>=3.7.4.3 in /usr/local/lib/python3.12/dist-packages (from typer>=0.7.0->typer[all]>=0.7.0->docstring_gen) (4.15.0)\n",
            "Requirement already satisfied: shellingham>=1.3.0 in /usr/local/lib/python3.12/dist-packages (from typer>=0.7.0->typer[all]>=0.7.0->docstring_gen) (1.5.4)\n",
            "Requirement already satisfied: rich>=10.11.0 in /usr/local/lib/python3.12/dist-packages (from typer>=0.7.0->typer[all]>=0.7.0->docstring_gen) (13.9.4)\n",
            "\u001b[33mWARNING: typer 0.17.3 does not provide the extra 'all'\u001b[0m\u001b[33m\n",
            "\u001b[0mRequirement already satisfied: attrs>=22.2.0 in /usr/local/lib/python3.12/dist-packages (from jsonschema>=2.6->nbformat>=5.7.1->docstring_gen) (25.3.0)\n",
            "Requirement already satisfied: jsonschema-specifications>=2023.03.6 in /usr/local/lib/python3.12/dist-packages (from jsonschema>=2.6->nbformat>=5.7.1->docstring_gen) (2025.4.1)\n",
            "Requirement already satisfied: referencing>=0.28.4 in /usr/local/lib/python3.12/dist-packages (from jsonschema>=2.6->nbformat>=5.7.1->docstring_gen) (0.36.2)\n",
            "Requirement already satisfied: rpds-py>=0.7.1 in /usr/local/lib/python3.12/dist-packages (from jsonschema>=2.6->nbformat>=5.7.1->docstring_gen) (0.27.1)\n",
            "Requirement already satisfied: platformdirs>=2.5 in /usr/local/lib/python3.12/dist-packages (from jupyter-core!=5.0.*,>=4.12->nbformat>=5.7.1->docstring_gen) (4.4.0)\n",
            "Requirement already satisfied: charset_normalizer<4,>=2 in /usr/local/lib/python3.12/dist-packages (from requests>=2.20->openai==0.27.2->docstring_gen) (3.4.3)\n",
            "Requirement already satisfied: idna<4,>=2.5 in /usr/local/lib/python3.12/dist-packages (from requests>=2.20->openai==0.27.2->docstring_gen) (3.10)\n",
            "Requirement already satisfied: urllib3<3,>=1.21.1 in /usr/local/lib/python3.12/dist-packages (from requests>=2.20->openai==0.27.2->docstring_gen) (2.5.0)\n",
            "Requirement already satisfied: certifi>=2017.4.17 in /usr/local/lib/python3.12/dist-packages (from requests>=2.20->openai==0.27.2->docstring_gen) (2025.8.3)\n",
            "Requirement already satisfied: markdown-it-py>=2.2.0 in /usr/local/lib/python3.12/dist-packages (from rich>=10.11.0->typer>=0.7.0->typer[all]>=0.7.0->docstring_gen) (4.0.0)\n",
            "Requirement already satisfied: pygments<3.0.0,>=2.13.0 in /usr/local/lib/python3.12/dist-packages (from rich>=10.11.0->typer>=0.7.0->typer[all]>=0.7.0->docstring_gen) (2.19.2)\n",
            "Requirement already satisfied: aiohappyeyeballs>=2.5.0 in /usr/local/lib/python3.12/dist-packages (from aiohttp->openai==0.27.2->docstring_gen) (2.6.1)\n",
            "Requirement already satisfied: aiosignal>=1.4.0 in /usr/local/lib/python3.12/dist-packages (from aiohttp->openai==0.27.2->docstring_gen) (1.4.0)\n",
            "Requirement already satisfied: frozenlist>=1.1.1 in /usr/local/lib/python3.12/dist-packages (from aiohttp->openai==0.27.2->docstring_gen) (1.7.0)\n",
            "Requirement already satisfied: multidict<7.0,>=4.5 in /usr/local/lib/python3.12/dist-packages (from aiohttp->openai==0.27.2->docstring_gen) (6.6.4)\n",
            "Requirement already satisfied: propcache>=0.2.0 in /usr/local/lib/python3.12/dist-packages (from aiohttp->openai==0.27.2->docstring_gen) (0.3.2)\n",
            "Requirement already satisfied: yarl<2.0,>=1.17.0 in /usr/local/lib/python3.12/dist-packages (from aiohttp->openai==0.27.2->docstring_gen) (1.20.1)\n",
            "Requirement already satisfied: mdurl~=0.1 in /usr/local/lib/python3.12/dist-packages (from markdown-it-py>=2.2.0->rich>=10.11.0->typer>=0.7.0->typer[all]>=0.7.0->docstring_gen) (0.1.2)\n"
          ]
        }
      ]
    },
    {
      "cell_type": "code",
      "metadata": {
        "colab": {
          "base_uri": "https://localhost:8080/"
        },
        "id": "a1810c35",
        "outputId": "b626500d-b2ed-42ce-e463-44fe88c27187"
      },
      "source": [
        "# Try importing from the top-level package or a different submodule if the above fails\n",
        "try:\n",
        "    from docstring_gen.generator import DocstringGenerator\n",
        "except ImportError:\n",
        "    # If the above import fails, try importing from the top-level package\n",
        "    try:\n",
        "        from docstring_gen import DocstringGenerator\n",
        "    except ImportError:\n",
        "        print(\"Could not import DocstringGenerator from docstring_gen or docstring_gen.generator.\")\n",
        "        print(\"Please check the library documentation for the correct import path.\")\n",
        "\n",
        "import inspect\n",
        "\n",
        "# List of functions to generate docstrings for\n",
        "calculator_functions = [add, subtract, multiply, divide]\n",
        "\n",
        "# Check if DocstringGenerator was successfully imported before proceeding\n",
        "if 'DocstringGenerator' in locals():\n",
        "    generator = DocstringGenerator()\n",
        "\n",
        "    print(\"--- Manual Function Docstrings ---\")\n",
        "    print(\"add:\", add.__doc__)\n",
        "    print(\"subtract:\", subtract.__doc__)\n",
        "    print(\"multiply:\", multiply.__doc__)\n",
        "    print(\"divide:\", divide.__doc__)\n",
        "\n",
        "    print(\"\\n--- AI-Generated Function Docstrings ---\")\n",
        "\n",
        "    for func in calculator_functions:\n",
        "        try:\n",
        "            func_source = inspect.getsource(func)\n",
        "            ai_docstring_func = generator.generate_docstring(func_source)\n",
        "            print(f\"{func.__name__}: {ai_docstring_func}\")\n",
        "        except (TypeError, OSError) as e:\n",
        "            print(f\"Could not get source for {func.__name__}: {e}\")\n",
        "\n",
        "else:\n",
        "    print(\"Docstring generation skipped due to import error.\")\n",
        "\n",
        "# Note: Generating a module-level docstring with this library based on\n",
        "# all functions in the module in this interactive environment is complex.\n",
        "# The manual module docstring is already present in the first code cell."
      ],
      "execution_count": null,
      "outputs": [
        {
          "output_type": "stream",
          "name": "stdout",
          "text": [
            "Could not import DocstringGenerator from docstring_gen or docstring_gen.generator.\n",
            "Please check the library documentation for the correct import path.\n",
            "Docstring generation skipped due to import error.\n"
          ]
        }
      ]
    }
  ]
}